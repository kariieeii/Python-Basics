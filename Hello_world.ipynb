{
  "nbformat": 4,
  "nbformat_minor": 0,
  "metadata": {
    "colab": {
      "name": "Hello world.ipynb",
      "provenance": []
    },
    "kernelspec": {
      "name": "python3",
      "display_name": "Python 3"
    },
    "language_info": {
      "name": "python"
    }
  },
  "cells": [
    {
      "cell_type": "code",
      "metadata": {
        "colab": {
          "base_uri": "https://localhost:8080/"
        },
        "id": "dFWSkbNIESd9",
        "outputId": "1abece15-681b-4525-8e88-9eb6a0f65afb"
      },
      "source": [
        "inp=input(\"Enter Greetings! \")\n",
        "print(inp)"
      ],
      "execution_count": 2,
      "outputs": [
        {
          "output_type": "stream",
          "name": "stdout",
          "text": [
            "Enter Greetings! Hello World\n",
            "Hello World\n"
          ]
        }
      ]
    },
    {
      "cell_type": "code",
      "metadata": {
        "colab": {
          "base_uri": "https://localhost:8080/"
        },
        "id": "3FIaWYkeEyiJ",
        "outputId": "394596eb-91e7-4a1a-83d6-8c4f04db7bf5"
      },
      "source": [
        "inp=int(input())\n",
        "print(inp)"
      ],
      "execution_count": 3,
      "outputs": [
        {
          "output_type": "stream",
          "name": "stdout",
          "text": [
            "12345\n",
            "12345\n"
          ]
        }
      ]
    },
    {
      "cell_type": "code",
      "metadata": {
        "colab": {
          "base_uri": "https://localhost:8080/"
        },
        "id": "X0dWOQZ4FDGo",
        "outputId": "3db7f55d-82cd-4004-c8eb-f4d850737bb7"
      },
      "source": [
        "inp=input()\n",
        "inp1=int(inp)\n",
        "inp2=str(inp1)\n",
        "print(type(inp))\n",
        "print(type(inp1))\n",
        "print(type(inp2))\n"
      ],
      "execution_count": 4,
      "outputs": [
        {
          "output_type": "stream",
          "name": "stdout",
          "text": [
            "431\n",
            "<class 'str'>\n",
            "<class 'int'>\n",
            "<class 'str'>\n"
          ]
        }
      ]
    },
    {
      "cell_type": "code",
      "metadata": {
        "colab": {
          "base_uri": "https://localhost:8080/"
        },
        "id": "vxz3MU1gFcas",
        "outputId": "26f43037-afb3-46e6-e236-cae30469d740"
      },
      "source": [
        "x=100000000000000000\n",
        "b=\"bat\"\n",
        "print(\"A man ate a \", b , \"and got covid and ruined the lives of \", x, \"people\")"
      ],
      "execution_count": 6,
      "outputs": [
        {
          "output_type": "stream",
          "name": "stdout",
          "text": [
            "A man ate a  bat and got covid and ruined the lives of  100000000000000000 people\n"
          ]
        }
      ]
    },
    {
      "cell_type": "code",
      "metadata": {
        "id": "45mMEGNAF0hf"
      },
      "source": [
        ""
      ],
      "execution_count": null,
      "outputs": []
    }
  ]
}